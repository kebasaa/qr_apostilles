{
 "cells": [
  {
   "cell_type": "markdown",
   "id": "8aa83658-e38d-441a-a57a-ab4421c92240",
   "metadata": {},
   "source": [
    "# Create QR codes of important government documents"
   ]
  },
  {
   "cell_type": "markdown",
   "id": "91f9535f-f71a-4813-929a-e86683abd2fb",
   "metadata": {},
   "source": [
    "Here is a Python function that takes a JSON string, encodes it in base64, compresses it with zlib, encrypts and signs it with a private key, and finally converts it to a QR code:"
   ]
  },
  {
   "cell_type": "code",
   "execution_count": 1,
   "id": "f4aafc24-a2ff-4cad-b696-ee7ac96ef128",
   "metadata": {},
   "outputs": [],
   "source": [
    "import base64\n",
    "import zlib\n",
    "import qrcode\n",
    "from cryptography.fernet import Fernet\n",
    "from cryptography.hazmat.primitives.asymmetric import padding, rsa"
   ]
  },
  {
   "cell_type": "code",
   "execution_count": 6,
   "id": "577027de-e792-4f76-97f1-37001b109130",
   "metadata": {},
   "outputs": [],
   "source": [
    "def encode_json(json_string, private_key):\n",
    "    # Generate a public/private key pair\n",
    "    public_key = private_key.public_key()\n",
    "    \n",
    "    # Encode the JSON string in base64\n",
    "    encoded_json = base64.b64encode(json_string.encode())\n",
    "    \n",
    "    # Compress the encoded JSON string with zlib\n",
    "    compressed_json = zlib.compress(encoded_json)\n",
    "    \n",
    "    # Encrypt the compressed JSON string with the private key\n",
    "    encrypted_json = rsa.decrypt(compressed_json, private_key, padding.OAEP)\n",
    "    \n",
    "    # Sign the encrypted JSON string with the private key\n",
    "    signature = rsa.sign(encrypted_json, private_key, padding.PKCS1v15, \"SHA-256\")\n",
    "    \n",
    "    # Concatenate the encrypted JSON string and the signature\n",
    "    signed_json = encrypted_json + signature\n",
    "    \n",
    "    # Convert the signed JSON string to a QR code\n",
    "    qr = qrcode.QRCode()\n",
    "    qr.add_data(signed_json)\n",
    "    qr.make()\n",
    "    qr_code = qr.make_image()\n",
    "    \n",
    "    # Return the QR code and the public key\n",
    "    return qr_code, public_key"
   ]
  },
  {
   "cell_type": "code",
   "execution_count": 7,
   "id": "3b9a4b23-5fd5-4567-8f82-e916af3d5a0a",
   "metadata": {},
   "outputs": [
    {
     "ename": "AttributeError",
     "evalue": "module 'cryptography.hazmat.primitives.asymmetric.rsa' has no attribute 'decrypt'",
     "output_type": "error",
     "traceback": [
      "\u001b[1;31m---------------------------------------------------------------------------\u001b[0m",
      "\u001b[1;31mAttributeError\u001b[0m                            Traceback (most recent call last)",
      "Input \u001b[1;32mIn [7]\u001b[0m, in \u001b[0;36m<cell line: 6>\u001b[1;34m()\u001b[0m\n\u001b[0;32m      1\u001b[0m json_string \u001b[38;5;241m=\u001b[39m \u001b[38;5;124m'\u001b[39m\u001b[38;5;124m{\u001b[39m\u001b[38;5;124m\"\u001b[39m\u001b[38;5;124mname\u001b[39m\u001b[38;5;124m\"\u001b[39m\u001b[38;5;124m: \u001b[39m\u001b[38;5;124m\"\u001b[39m\u001b[38;5;124mJohn\u001b[39m\u001b[38;5;124m\"\u001b[39m\u001b[38;5;124m, \u001b[39m\u001b[38;5;124m\"\u001b[39m\u001b[38;5;124mage\u001b[39m\u001b[38;5;124m\"\u001b[39m\u001b[38;5;124m: 30}\u001b[39m\u001b[38;5;124m'\u001b[39m\n\u001b[0;32m      2\u001b[0m private_key \u001b[38;5;241m=\u001b[39m rsa\u001b[38;5;241m.\u001b[39mgenerate_private_key(\n\u001b[0;32m      3\u001b[0m     public_exponent\u001b[38;5;241m=\u001b[39m\u001b[38;5;241m65537\u001b[39m,\n\u001b[0;32m      4\u001b[0m     key_size\u001b[38;5;241m=\u001b[39m\u001b[38;5;241m2048\u001b[39m\n\u001b[0;32m      5\u001b[0m )\n\u001b[1;32m----> 6\u001b[0m qr_code, public_key \u001b[38;5;241m=\u001b[39m \u001b[43mencode_json\u001b[49m\u001b[43m(\u001b[49m\u001b[43mjson_string\u001b[49m\u001b[43m,\u001b[49m\u001b[43m \u001b[49m\u001b[43mprivate_key\u001b[49m\u001b[43m)\u001b[49m\n",
      "Input \u001b[1;32mIn [6]\u001b[0m, in \u001b[0;36mencode_json\u001b[1;34m(json_string, private_key)\u001b[0m\n\u001b[0;32m      9\u001b[0m compressed_json \u001b[38;5;241m=\u001b[39m zlib\u001b[38;5;241m.\u001b[39mcompress(encoded_json)\n\u001b[0;32m     11\u001b[0m \u001b[38;5;66;03m# Encrypt the compressed JSON string with the private key\u001b[39;00m\n\u001b[1;32m---> 12\u001b[0m encrypted_json \u001b[38;5;241m=\u001b[39m \u001b[43mrsa\u001b[49m\u001b[38;5;241;43m.\u001b[39;49m\u001b[43mdecrypt\u001b[49m(compressed_json, private_key, padding\u001b[38;5;241m.\u001b[39mOAEP)\n\u001b[0;32m     14\u001b[0m \u001b[38;5;66;03m# Sign the encrypted JSON string with the private key\u001b[39;00m\n\u001b[0;32m     15\u001b[0m signature \u001b[38;5;241m=\u001b[39m rsa\u001b[38;5;241m.\u001b[39msign(encrypted_json, private_key, padding\u001b[38;5;241m.\u001b[39mPKCS1v15, \u001b[38;5;124m\"\u001b[39m\u001b[38;5;124mSHA-256\u001b[39m\u001b[38;5;124m\"\u001b[39m)\n",
      "\u001b[1;31mAttributeError\u001b[0m: module 'cryptography.hazmat.primitives.asymmetric.rsa' has no attribute 'decrypt'"
     ]
    }
   ],
   "source": [
    "json_string = '{\"name\": \"John\", \"age\": 30}'\n",
    "private_key = rsa.generate_private_key(\n",
    "    public_exponent=65537,\n",
    "    key_size=2048\n",
    ")\n",
    "qr_code, public_key = encode_json(json_string, private_key)"
   ]
  },
  {
   "cell_type": "code",
   "execution_count": 5,
   "id": "f49be477-cb8f-4250-8147-403f36fe1a7b",
   "metadata": {},
   "outputs": [],
   "source": [
    "def decode_json(qr_code, public_key):\n",
    "    # Read the data from the QR code\n",
    "    data = qrcode.decode(qr_code)\n",
    "    \n",
    "    # Split the data into the encrypted JSON string and the signature\n",
    "    encrypted_json = data[:256]\n",
    "    signature = data[256:]\n",
    "    \n",
    "    # Verify the signature with the public key\n",
    "    try:\n",
    "        rsa.verify(encrypted_json, signature, public_key, padding.PKCS1v15, \"SHA-256\")\n",
    "        is_valid = True\n",
    "    except Exception:\n",
    "        is_valid = False\n",
    "    \n",
    "    # Decrypt the encrypted JSON string with the public key\n",
    "    compressed_json = rsa.decrypt(encrypted_json, public_key, padding.OAEP)\n",
    "    \n",
    "    # Decompress the compressed JSON string\n",
    "    encoded_json = zlib.decompress(compressed_json)\n",
    "    \n",
    "    # Decode the encoded JSON string\n",
    "    decoded_json = base64.b64decode(encoded_json).decode()\n",
    "    \n",
    "    # Return the decoded JSON string and the proof of validity\n",
    "    return decoded_json, is_valid"
   ]
  },
  {
   "cell_type": "code",
   "execution_count": null,
   "id": "9d29d78f-9260-4cc5-83e2-edf7cc38d4ec",
   "metadata": {},
   "outputs": [],
   "source": [
    "decoded_json, is_valid = decode_json(qr_code, public_key)"
   ]
  },
  {
   "cell_type": "code",
   "execution_count": null,
   "id": "244efd97-d4d5-4db6-b226-0de4dc8a3f77",
   "metadata": {},
   "outputs": [],
   "source": []
  },
  {
   "cell_type": "code",
   "execution_count": null,
   "id": "35292786-05d8-4338-a7bb-3412033118bc",
   "metadata": {},
   "outputs": [],
   "source": []
  },
  {
   "cell_type": "code",
   "execution_count": 23,
   "id": "10f77c37-c7af-41b5-a301-97c902a6218f",
   "metadata": {},
   "outputs": [
    {
     "name": "stdout",
     "output_type": "stream",
     "text": [
      "<cryptography.hazmat.backends.openssl.rsa._RSAPrivateKey object at 0x000001DBB5726800>\n",
      "<cryptography.hazmat.backends.openssl.rsa._RSAPublicKey object at 0x000001DBB5726740>\n"
     ]
    },
    {
     "ename": "TypeError",
     "evalue": "Padding must be an instance of AsymmetricPadding.",
     "output_type": "error",
     "traceback": [
      "\u001b[1;31m---------------------------------------------------------------------------\u001b[0m",
      "\u001b[1;31mTypeError\u001b[0m                                 Traceback (most recent call last)",
      "Input \u001b[1;32mIn [23]\u001b[0m, in \u001b[0;36m<cell line: 30>\u001b[1;34m()\u001b[0m\n\u001b[0;32m     27\u001b[0m \u001b[38;5;28mprint\u001b[39m(public_key)\n\u001b[0;32m     29\u001b[0m data \u001b[38;5;241m=\u001b[39m string\u001b[38;5;241m.\u001b[39mencode()\n\u001b[1;32m---> 30\u001b[0m encrypted_data \u001b[38;5;241m=\u001b[39m \u001b[43mpublic_key\u001b[49m\u001b[38;5;241;43m.\u001b[39;49m\u001b[43mencrypt\u001b[49m\u001b[43m(\u001b[49m\u001b[43mdata\u001b[49m\u001b[43m,\u001b[49m\u001b[43m \u001b[49m\u001b[43mpadding\u001b[49m\u001b[38;5;241;43m.\u001b[39;49m\u001b[43mOAEP\u001b[49m\u001b[43m)\u001b[49m\n\u001b[0;32m     32\u001b[0m encrypted_data \u001b[38;5;241m=\u001b[39m encrypt_string(string, private_key)\n\u001b[0;32m     34\u001b[0m \u001b[38;5;28mprint\u001b[39m(encrypted_data)\n",
      "File \u001b[1;32m~\\.conda\\envs\\scio\\lib\\site-packages\\cryptography\\hazmat\\backends\\openssl\\rsa.py:518\u001b[0m, in \u001b[0;36m_RSAPublicKey.encrypt\u001b[1;34m(self, plaintext, padding)\u001b[0m\n\u001b[0;32m    517\u001b[0m \u001b[38;5;28;01mdef\u001b[39;00m \u001b[38;5;21mencrypt\u001b[39m(\u001b[38;5;28mself\u001b[39m, plaintext: \u001b[38;5;28mbytes\u001b[39m, padding: AsymmetricPadding) \u001b[38;5;241m-\u001b[39m\u001b[38;5;241m>\u001b[39m \u001b[38;5;28mbytes\u001b[39m:\n\u001b[1;32m--> 518\u001b[0m     \u001b[38;5;28;01mreturn\u001b[39;00m \u001b[43m_enc_dec_rsa\u001b[49m\u001b[43m(\u001b[49m\u001b[38;5;28;43mself\u001b[39;49m\u001b[38;5;241;43m.\u001b[39;49m\u001b[43m_backend\u001b[49m\u001b[43m,\u001b[49m\u001b[43m \u001b[49m\u001b[38;5;28;43mself\u001b[39;49m\u001b[43m,\u001b[49m\u001b[43m \u001b[49m\u001b[43mplaintext\u001b[49m\u001b[43m,\u001b[49m\u001b[43m \u001b[49m\u001b[43mpadding\u001b[49m\u001b[43m)\u001b[49m\n",
      "File \u001b[1;32m~\\.conda\\envs\\scio\\lib\\site-packages\\cryptography\\hazmat\\backends\\openssl\\rsa.py:72\u001b[0m, in \u001b[0;36m_enc_dec_rsa\u001b[1;34m(backend, key, data, padding)\u001b[0m\n\u001b[0;32m     65\u001b[0m \u001b[38;5;28;01mdef\u001b[39;00m \u001b[38;5;21m_enc_dec_rsa\u001b[39m(\n\u001b[0;32m     66\u001b[0m     backend: \u001b[38;5;124m\"\u001b[39m\u001b[38;5;124mBackend\u001b[39m\u001b[38;5;124m\"\u001b[39m,\n\u001b[0;32m     67\u001b[0m     key: typing\u001b[38;5;241m.\u001b[39mUnion[\u001b[38;5;124m\"\u001b[39m\u001b[38;5;124m_RSAPrivateKey\u001b[39m\u001b[38;5;124m\"\u001b[39m, \u001b[38;5;124m\"\u001b[39m\u001b[38;5;124m_RSAPublicKey\u001b[39m\u001b[38;5;124m\"\u001b[39m],\n\u001b[0;32m     68\u001b[0m     data: \u001b[38;5;28mbytes\u001b[39m,\n\u001b[0;32m     69\u001b[0m     padding: AsymmetricPadding,\n\u001b[0;32m     70\u001b[0m ) \u001b[38;5;241m-\u001b[39m\u001b[38;5;241m>\u001b[39m \u001b[38;5;28mbytes\u001b[39m:\n\u001b[0;32m     71\u001b[0m     \u001b[38;5;28;01mif\u001b[39;00m \u001b[38;5;129;01mnot\u001b[39;00m \u001b[38;5;28misinstance\u001b[39m(padding, AsymmetricPadding):\n\u001b[1;32m---> 72\u001b[0m         \u001b[38;5;28;01mraise\u001b[39;00m \u001b[38;5;167;01mTypeError\u001b[39;00m(\u001b[38;5;124m\"\u001b[39m\u001b[38;5;124mPadding must be an instance of AsymmetricPadding.\u001b[39m\u001b[38;5;124m\"\u001b[39m)\n\u001b[0;32m     74\u001b[0m     \u001b[38;5;28;01mif\u001b[39;00m \u001b[38;5;28misinstance\u001b[39m(padding, PKCS1v15):\n\u001b[0;32m     75\u001b[0m         padding_enum \u001b[38;5;241m=\u001b[39m backend\u001b[38;5;241m.\u001b[39m_lib\u001b[38;5;241m.\u001b[39mRSA_PKCS1_PADDING\n",
      "\u001b[1;31mTypeError\u001b[0m: Padding must be an instance of AsymmetricPadding."
     ]
    }
   ],
   "source": [
    "from cryptography.hazmat.primitives.asymmetric import padding, rsa\n",
    "\n",
    "from cryptography.hazmat.primitives.asymmetric import rsa\n",
    "#from cryptography.hazmat.primitives import serialization\n",
    "#from cryptography.hazmat.primitives.asymmetric import padding\n",
    "#from cryptography.hazmat.primitives import hashes\n",
    "\n",
    "def encrypt_string(string, private_key):\n",
    "    # Encode the string as bytes\n",
    "    data = string.encode()\n",
    "    \n",
    "    # Encrypt the data with the private key\n",
    "    encrypted_data = rsa.decrypt(data, private_key, padding.OAEP)\n",
    "    \n",
    "    # Return the encrypted data\n",
    "    return encrypted_data\n",
    "\n",
    "# TEST\n",
    "string = \"Hello, world!\"\n",
    "private_key = rsa.generate_private_key(\n",
    "    public_exponent=65537,\n",
    "    key_size=2048\n",
    ")\n",
    "public_key = private_key.public_key()\n",
    "\n",
    "print(private_key)\n",
    "print(public_key)\n",
    "\n",
    "data = string.encode()\n",
    "encrypted_data = public_key.encrypt(data, padding.OAEP)\n",
    "\n",
    "encrypted_data = encrypt_string(string, private_key)\n",
    "\n",
    "print(encrypted_data)"
   ]
  },
  {
   "cell_type": "code",
   "execution_count": null,
   "id": "73d96ee0-1e1f-4efc-8cc6-de0c5d05a571",
   "metadata": {},
   "outputs": [],
   "source": [
    "def decrypt_string(encrypted_data, public_key):\n",
    "    # Decrypt the encrypted data with the public key\n",
    "    data = rsa.decrypt(encrypted_data, public_key, padding.OAEP)\n",
    "    \n",
    "    # Decode the data and return the decrypted string\n",
    "    return data.decode()\n",
    "\n",
    "decrypted_string = decrypt_string(encrypted_data, public_key)\n",
    "print(decrypted_string)"
   ]
  },
  {
   "cell_type": "code",
   "execution_count": null,
   "id": "adfe16ff-b1f2-4210-a396-e895f1d62308",
   "metadata": {},
   "outputs": [],
   "source": []
  }
 ],
 "metadata": {
  "kernelspec": {
   "display_name": "scio",
   "language": "python",
   "name": "scio"
  },
  "language_info": {
   "codemirror_mode": {
    "name": "ipython",
    "version": 3
   },
   "file_extension": ".py",
   "mimetype": "text/x-python",
   "name": "python",
   "nbconvert_exporter": "python",
   "pygments_lexer": "ipython3",
   "version": "3.10.5"
  }
 },
 "nbformat": 4,
 "nbformat_minor": 5
}
